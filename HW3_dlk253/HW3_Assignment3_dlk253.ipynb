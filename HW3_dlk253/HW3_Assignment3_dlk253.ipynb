{
 "cells": [
  {
   "cell_type": "code",
   "execution_count": null,
   "metadata": {
    "collapsed": true
   },
   "outputs": [],
   "source": [
    "#this code was written with the help of Christian Rosado, he helped me after the Python Session. \n",
    "\n",
    "bustimes_data = [31.62223931,\n",
    "32.82137636,\n",
    "30.2291014,\n",
    "31.41376587,\n",
    "39.01055035,\n",
    "34.82207891,\n",
    "39.87188366,\n",
    "39.57994562,\n",
    "31.02658678,\n",
    "27.66246068,\n",
    "18.8752884,\n",
    "46.2313731,\n",
    "30.01522604,\n",
    "47.6004104,\n",
    "16.52726666,\n",
    "42.4462331,\n",
    "33.62527449,\n",
    "42.28462558,\n",
    "46.20520667,\n",
    "30.87517392,\n",
    "32.94800341,\n",
    "26.17691512,\n",
    "31.25699649,\n",
    "35.33644554,\n",
    "35.64072501,\n",
    "40.32297174,\n",
    "38.04348588,\n",
    "29.4579793,\n",
    "23.91636367,\n",
    "34.56403521,\n",
    "45.42782464,\n",
    "38.95607754,\n",
    "39.11396748,\n",
    "39.67398759,\n",
    "31.89148105,\n",
    "22.62379325,\n",
    "26.18910408,\n",
    "43.54114213,\n",
    "33.2607386,\n",
    "31.67602384,\n",
    "37.12846259,\n",
    "38.22048496,\n",
    "34.38814185,\n",
    "36.11407371,\n",
    "44.08064814,\n",
    "29.59917161,\n",
    "37.02411751,\n",
    "41.60576556,\n",
    "44.37860528,\n",
    "38.06471077,\n",
    "22.90526456,\n",
    "40.27182857,\n",
    "31.57979239,\n",
    "25.88037795,\n",
    "28.8913048,\n",
    "44.33687925,\n",
    "36.78948684,\n",
    "43.46098875,\n",
    "40.65557,\n",
    "26.16634004,\n",
    "25.13884784,\n",
    "33.01581456,\n",
    "32.87050073,\n",
    "26.28557154,\n",
    "39.44933037,\n",
    "36.25528612,\n",
    "40.719133,\n",
    "40.57181545,\n",
    "19.87166413,\n",
    "43.21925286,\n",
    "31.48102823,\n",
    "37.14915056,\n",
    "38.991504,\n",
    "20.53059384,\n",
    "27.80447692,\n",
    "38.69933298,\n",
    "30.0223142,\n",
    "38.64884169,\n",
    "26.40668884,\n",
    "32.10224978,\n",
    "28.31532754,\n",
    "43.26195884,\n",
    "40.3609407,\n",
    "37.3025258,\n",
    "31.45110181,\n",
    "38.79599524,\n",
    "36.92553372,\n",
    "32.37167945,\n",
    "23.25835631,\n",
    "26.42613261,\n",
    "48.74987653,\n",
    "31.42512354,\n",
    "46.80679298,\n",
    "30.59748648,\n",
    "20.7926322,\n",
    "26.19785226,\n",
    "42.7274097,\n",
    "33.7314695,\n",
    "37.23859057,\n",
    "36.33984141,]\n"
   ]
  },
  {
   "cell_type": "code",
   "execution_count": 15,
   "metadata": {
    "collapsed": false
   },
   "outputs": [],
   "source": [
    "import numpy as np\n",
    "busmean = np.mean(bustimes_data)"
   ]
  },
  {
   "cell_type": "code",
   "execution_count": 16,
   "metadata": {
    "collapsed": false
   },
   "outputs": [],
   "source": [
    "busstd = np.std(bustimes_data)"
   ]
  },
  {
   "cell_type": "code",
   "execution_count": 13,
   "metadata": {
    "collapsed": true
   },
   "outputs": [],
   "source": [
    "#z = mean of the sample - mean of the population divided by std divided by the square root of count"
   ]
  },
  {
   "cell_type": "code",
   "execution_count": 19,
   "metadata": {
    "collapsed": false
   },
   "outputs": [],
   "source": [
    "popmean = 36 \n",
    "popstd = 6\n",
    "popcount = 100\n",
    "\n",
    "ztest = (popmean - busmean)/(popstd/popcount**(1/2.0))"
   ]
  },
  {
   "cell_type": "code",
   "execution_count": 21,
   "metadata": {
    "collapsed": false
   },
   "outputs": [
    {
     "name": "stdout",
     "output_type": "stream",
     "text": [
      "2.55639718617\n"
     ]
    }
   ],
   "source": [
    "print ztest"
   ]
  },
  {
   "cell_type": "markdown",
   "metadata": {},
   "source": [
    "#put the notes here! explain the numbers, confidence interval needs to be converted into a z stats. Z = 1.65 anything above that is OK, it fell above the confidence level. \n",
    "z value (is statistically signifigant)\n"
   ]
  }
 ],
 "metadata": {
  "kernelspec": {
   "display_name": "PUI2016_Python2",
   "language": "python",
   "name": "pui2016_python2"
  },
  "language_info": {
   "codemirror_mode": {
    "name": "ipython",
    "version": 2
   },
   "file_extension": ".py",
   "mimetype": "text/x-python",
   "name": "python",
   "nbconvert_exporter": "python",
   "pygments_lexer": "ipython2",
   "version": "2.7.12"
  }
 },
 "nbformat": 4,
 "nbformat_minor": 0
}
