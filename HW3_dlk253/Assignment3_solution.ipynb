{
 "cells": [
  {
   "cell_type": "markdown",
   "metadata": {},
   "source": [
    "## Prepared by Federica B Bianco, NYU @fedhere\n",
    "## for CUSP NYU PUI2016\n",
    "## September 2016\n",
    "## solution to Assignment 3 HW 2"
   ]
  },
  {
   "cell_type": "code",
   "execution_count": 6,
   "metadata": {
    "collapsed": true
   },
   "outputs": [],
   "source": [
    "from __future__ import division, print_function\n",
    "import numpy as np"
   ]
  },
  {
   "cell_type": "markdown",
   "metadata": {},
   "source": [
    "# must have this!! a statement of Null and alternative, and the significance level chosen\n",
    "## Stating the Null Hypothesis:\n",
    "\n",
    "# $H_0$: TimeNew.mean() >= TimeOld.mean()\n",
    "\n",
    "# $H_a$: TimeNew.mean() < TimeOld.mean()\n",
    "\n",
    "# $\\alpha=0.05$"
   ]
  },
  {
   "cell_type": "code",
   "execution_count": 27,
   "metadata": {
    "collapsed": false
   },
   "outputs": [
    {
     "name": "stdout",
     "output_type": "stream",
     "text": [
      "  % Total    % Received % Xferd  Average Speed   Time    Time     Time  Current\n",
      "                                 Dload  Upload   Total   Spent    Left  Speed\n",
      "100  1179  100  1179    0     0   1341      0 --:--:-- --:--:-- --:--:--  1342\n"
     ]
    }
   ],
   "source": [
    "# the raw input must be read directly \n",
    "!curl -O https://raw.githubusercontent.com/fedhere/PUI2016_fb55/master/Lab3_fb55/times.txt"
   ]
  },
  {
   "cell_type": "code",
   "execution_count": 28,
   "metadata": {
    "collapsed": false
   },
   "outputs": [],
   "source": [
    "alpha = 0.05\n",
    "timesOldMean = 36.\n",
    "timesOldStd = 6.\n",
    "timesNew = np.loadtxt(\"times.txt\", unpack=True)"
   ]
  },
  {
   "cell_type": "code",
   "execution_count": 34,
   "metadata": {
    "collapsed": false
   },
   "outputs": [
    {
     "name": "stdout",
     "output_type": "stream",
     "text": [
      "The new average travel time is 34.47\n"
     ]
    }
   ],
   "source": [
    "print(\"The new average travel time is {0:.2f}\".format(timesNew.mean()))"
   ]
  },
  {
   "cell_type": "code",
   "execution_count": 35,
   "metadata": {
    "collapsed": false
   },
   "outputs": [
    {
     "name": "stdout",
     "output_type": "stream",
     "text": [
      "The Z statistics is Z = 2.56\n"
     ]
    }
   ],
   "source": [
    "# here it is ok to use either the stdev from timesOld or from timesNew\n",
    "Z = (timesOldMean - timesNew.mean()) / (timesOldStd / np.sqrt(len(timesNew)))\n",
    "print(\"The Z statistics is Z = {0:.2f}\".format(Z))"
   ]
  },
  {
   "cell_type": "code",
   "execution_count": 43,
   "metadata": {
    "collapsed": false
   },
   "outputs": [
    {
     "name": "stdout",
     "output_type": "stream",
     "text": [
      "Z score for Bus X8 rerouting: 2.6\n",
      "This means we are 2.6 standard deviations away\n",
      "from the mean of the old trip duration\n",
      "\n",
      "\n",
      "The Null Hypothesis that the new route does not improve commuting \n",
      "IS REJECTED at the 95.0% significance level\n"
     ]
    }
   ],
   "source": [
    "print(\"Z score for Bus X8 rerouting: {0:.1f}\".format(Z))\n",
    "print(\"This means we are {0:.1f} standard deviations away\".format(Z))\n",
    "print(\"from the mean of the old trip duration\\n\\n\")\n",
    "if Z > 2:\n",
    "    result = \"IS REJECTED\"\n",
    "else: \n",
    "    result = \"CANNOT BE REJECTED\"\n",
    "\n",
    "print(\"The Null Hypothesis that the new route does not improve commuting\")\n",
    "print(\"{0:s} at the {1:.1f}% significance level\".format(result, 100*(1-alpha)))"
   ]
  },
  {
   "cell_type": "code",
   "execution_count": null,
   "metadata": {
    "collapsed": true
   },
   "outputs": [],
   "source": []
  }
 ],
 "metadata": {
  "kernelspec": {
   "display_name": "Python 3",
   "language": "python",
   "name": "python3"
  },
  "language_info": {
   "codemirror_mode": {
    "name": "ipython",
    "version": 3
   },
   "file_extension": ".py",
   "mimetype": "text/x-python",
   "name": "python",
   "nbconvert_exporter": "python",
   "pygments_lexer": "ipython3",
   "version": "3.5.1"
  }
 },
 "nbformat": 4,
 "nbformat_minor": 0
}
