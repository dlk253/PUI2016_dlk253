{
 "cells": [
  {
   "cell_type": "markdown",
   "metadata": {},
   "source": [
    "## Algorithm\n",
    "1. Choose N clusters\n",
    "2. Calculate N xn distances for each data point to each center\n",
    "3. Assign the closest center\n",
    "4. Calcule the mean location of the points in each of N cluster to create New Center"
   ]
  },
  {
   "cell_type": "code",
   "execution_count": 1,
   "metadata": {
    "collapsed": false
   },
   "outputs": [
    {
     "name": "stdout",
     "output_type": "stream",
     "text": [
      "Populating the interactive namespace from numpy and matplotlib\n"
     ]
    },
    {
     "name": "stderr",
     "output_type": "stream",
     "text": [
      "/opt/rh/anaconda/root/envs/PUI2016_Python2/lib/python2.7/site-packages/IPython/core/magics/pylab.py:161: UserWarning: pylab import has clobbered these variables: ['random']\n",
      "`%matplotlib` prevents importing * from pylab and numpy\n",
      "  \"\\n`%matplotlib` prevents importing * from pylab and numpy\"\n"
     ]
    }
   ],
   "source": [
    "import numpy as np\n",
    "import pylab as pl\n",
    "import random\n",
    "%pylab inline"
   ]
  },
  {
   "cell_type": "code",
   "execution_count": 13,
   "metadata": {
    "collapsed": false
   },
   "outputs": [],
   "source": [
    "np.random.seed(123)\n",
    "#create two distributions of data points\n",
    "#random guassian random point on each dimension\n",
    "d1 =np.random.randn(100,2) #this will give us a two dimensional array\n",
    "#can this be explained???\n",
    "d2 = 2 * np.random.randn(100,2) +5"
   ]
  },
  {
   "cell_type": "code",
   "execution_count": 10,
   "metadata": {
    "collapsed": false
   },
   "outputs": [
    {
     "data": {
      "text/plain": [
       "(100, 2)"
      ]
     },
     "execution_count": 10,
     "metadata": {},
     "output_type": "execute_result"
    }
   ],
   "source": [
    "d1.shape "
   ]
  },
  {
   "cell_type": "code",
   "execution_count": 11,
   "metadata": {
    "collapsed": false
   },
   "outputs": [
    {
     "data": {
      "text/plain": [
       "(100, 2)"
      ]
     },
     "execution_count": 11,
     "metadata": {},
     "output_type": "execute_result"
    }
   ],
   "source": [
    "d2.shape # we have a 100 by 2 dimensional array. we take everything along the first axis and only one on the other axis"
   ]
  },
  {
   "cell_type": "code",
   "execution_count": 12,
   "metadata": {
    "collapsed": false
   },
   "outputs": [
    {
     "data": {
      "text/plain": [
       "[<matplotlib.lines.Line2D at 0x7f9ca85c4410>]"
      ]
     },
     "execution_count": 12,
     "metadata": {},
     "output_type": "execute_result"
    },
    {
     "data": {
      "image/png": "[encoded data removed]",
      "text/plain": [
       "<matplotlib.figure.Figure at 0x7f9ca85c4b90>"
      ]
     },
     "metadata": {},
     "output_type": "display_data"
    }
   ],
   "source": [
    "pl.plot(d1[:,0], d1[:,1],'.')\n",
    "pl.plot(d2[:,0], d2[:,1],'.')"
   ]
  },
  {
   "cell_type": "code",
   "execution_count": 16,
   "metadata": {
    "collapsed": false
   },
   "outputs": [
    {
     "name": "stdout",
     "output_type": "stream",
     "text": [
      "[ 0.85154805  0.12761222] [ 4.46932684  2.48253986]\n"
     ]
    }
   ],
   "source": [
    "nc = 2\n",
    "#rand is guassian and randn in uniform\n",
    "init_c1 = np.random.rand(2)\n",
    "init_c2 = 5*np.random.rand(2)\n",
    "print init_c1, init_c2\n",
    "#randu, lets generate two points between 0 and 1 and "
   ]
  },
  {
   "cell_type": "code",
   "execution_count": 22,
   "metadata": {
    "collapsed": false
   },
   "outputs": [
    {
     "data": {
      "text/plain": [
       "[<matplotlib.lines.Line2D at 0x7f9ca8077290>]"
      ]
     },
     "execution_count": 22,
     "metadata": {},
     "output_type": "execute_result"
    },
    {
     "data": {
      "image/png": "[encoded data removed]",
      "text/plain": [
       "<matplotlib.figure.Figure at 0x7f9ca8151ad0>"
      ]
     },
     "metadata": {},
     "output_type": "display_data"
    }
   ],
   "source": [
    "pl.plot(d1[:,0], d1[:,1],'.')\n",
    "pl.plot(d2[:,0], d2[:,1],'.')\n",
    "pl.plot(init_c1[0], init_c1[1],'x', ms =15)\n",
    "pl.plot(init_c2[0], init_c2[1],'x', ms =15)"
   ]
  },
  {
   "cell_type": "code",
   "execution_count": 28,
   "metadata": {
    "collapsed": false
   },
   "outputs": [
    {
     "data": {
      "text/plain": [
       "array([1, 1])"
      ]
     },
     "execution_count": 28,
     "metadata": {},
     "output_type": "execute_result"
    }
   ],
   "source": [
    "#important in clustering to define the distance\n",
    "#we want a function that works for bulk, take array that has 100 data points, each two dimensions, calculate the distance between\n",
    "#each on eof those and the number I am passing as an argument.\n",
    "def distance(p1,p2):\n",
    "    return np.abs(p1[:,0]-p2[0])+np.abs(p1[:,1]-p2[1])\n",
    "distance(np.array([[0,1],[0,1]]),[1,1])"
   ]
  },
  {
   "cell_type": "code",
   "execution_count": 31,
   "metadata": {
    "collapsed": false
   },
   "outputs": [
    {
     "name": "stdout",
     "output_type": "stream",
     "text": [
      "[ 2.80691188  2.20247649  2.95397262  3.83475215  1.40874083  1.7527554\n",
      "  1.4063558   1.85749351  3.4135559   0.41108002  1.47729928  2.83559874\n",
      "  2.87079245  1.61185007  1.98098389  4.03336875  3.45057061  0.37716229\n",
      "  1.40931262  1.88709949  3.51219629  1.68864148  0.65240172  1.82611715\n",
      "  2.23771907  3.31203381  1.81783913  1.76356857  1.6664323   1.58587653\n",
      "  2.29150721  1.99115374  1.24537531  1.16676226  2.12176105  1.34187614\n",
      "  1.53547127  3.88676327  1.5085559   3.42263976  1.22017053  1.4891004\n",
      "  2.37982082  2.92414539  1.27239431  1.69362176  1.72076264  2.09006105\n",
      "  3.42719973  0.9789361   2.31499352  2.60997512  0.96964413  2.6615865\n",
      "  2.15842338  2.39448497  1.96040177  0.31231963  2.68258402  3.26052128\n",
      "  1.80705436  1.35140408  1.15498753  0.41133464  1.06873691  3.07652486\n",
      "  1.80205961  0.28645528  3.07886103  1.14892991  1.67758219  0.62090335\n",
      "  0.63469169  1.81220938  1.10691234  0.75384471  4.26791781  1.91153319\n",
      "  0.95597867  0.79649763  1.15280815  1.29438311  1.21192978  1.89475441\n",
      "  1.17432984  2.10327254  1.64706681  1.79277923  1.2830014   1.25553374\n",
      "  2.09006427  1.03035303  4.08485701  2.5061384   1.47034453  0.83193595\n",
      "  0.90569594  4.01319635  1.35930449  1.53836825] [ 2.80691188  2.20247649  2.95397262  3.83475215  1.40874083  1.7527554\n",
      "  1.4063558   1.85749351  3.4135559   0.41108002  1.47729928  2.83559874\n",
      "  2.87079245  1.61185007  1.98098389  4.03336875  3.45057061  0.37716229\n",
      "  1.40931262  1.88709949  3.51219629  1.68864148  0.65240172  1.82611715\n",
      "  2.23771907  3.31203381  1.81783913  1.76356857  1.6664323   1.58587653\n",
      "  2.29150721  1.99115374  1.24537531  1.16676226  2.12176105  1.34187614\n",
      "  1.53547127  3.88676327  1.5085559   3.42263976  1.22017053  1.4891004\n",
      "  2.37982082  2.92414539  1.27239431  1.69362176  1.72076264  2.09006105\n",
      "  3.42719973  0.9789361   2.31499352  2.60997512  0.96964413  2.6615865\n",
      "  2.15842338  2.39448497  1.96040177  0.31231963  2.68258402  3.26052128\n",
      "  1.80705436  1.35140408  1.15498753  0.41133464  1.06873691  3.07652486\n",
      "  1.80205961  0.28645528  3.07886103  1.14892991  1.67758219  0.62090335\n",
      "  0.63469169  1.81220938  1.10691234  0.75384471  4.26791781  1.91153319\n",
      "  0.95597867  0.79649763  1.15280815  1.29438311  1.21192978  1.89475441\n",
      "  1.17432984  2.10327254  1.64706681  1.79277923  1.2830014   1.25553374\n",
      "  2.09006427  1.03035303  4.08485701  2.5061384   1.47034453  0.83193595\n",
      "  0.90569594  4.01319635  1.35930449  1.53836825] [ 3.25854287  8.82613136  2.62219419  1.04447459  3.41509525  5.36659609\n",
      "  0.3337863   6.54937832  5.5794891   3.51666578  3.3942506   1.83444675\n",
      "  2.76386871  1.43210719  4.7096052   6.6954056   2.69207841  2.82495373\n",
      "  4.72440728  3.83804904  4.18920741  1.59945748  3.28197086  3.57917597\n",
      "  5.64391055  8.44410596  1.7008734   4.3723393   4.46013918  9.02467004\n",
      "  2.71738296  1.63816251  4.32089042  4.88922477  6.32646422  2.03161183\n",
      "  4.64744998  3.28875494  3.38288959  2.38616237  2.12051205  4.1006281\n",
      "  1.33152833  7.80085455  5.20101206  5.4729539   3.20457084  7.22579308\n",
      "  7.63112347  5.00874336  2.92026532  4.5273367   5.3933178   4.89669111\n",
      "  3.48053413  6.76009791  5.27715865  5.53722518  1.2115273   4.3933269\n",
      "  1.27991842  0.46281648  3.24119064  4.80037564  3.56117455  6.49485913\n",
      "  2.89939758  2.2770553   4.41544706  3.83192268  2.11192987  4.21050777\n",
      "  5.95259909  3.34025797  7.5051821   2.25791283  1.92480011  3.64563919\n",
      "  8.01488534  3.50711064  4.13659839  4.16622753  4.07897702  4.60072668\n",
      "  4.30112369  5.31191586  5.58059245  5.79287945  3.66513432  1.56458233\n",
      "  2.61277177  2.83270073  2.89777336  5.02159307  2.16146524  7.14825585\n",
      "  2.42079782  4.7193045   3.06055922  3.19933431] [ 3.25854287  8.82613136  2.62219419  1.04447459  3.41509525  5.36659609\n",
      "  0.3337863   6.54937832  5.5794891   3.51666578  3.3942506   1.83444675\n",
      "  2.76386871  1.43210719  4.7096052   6.6954056   2.69207841  2.82495373\n",
      "  4.72440728  3.83804904  4.18920741  1.59945748  3.28197086  3.57917597\n",
      "  5.64391055  8.44410596  1.7008734   4.3723393   4.46013918  9.02467004\n",
      "  2.71738296  1.63816251  4.32089042  4.88922477  6.32646422  2.03161183\n",
      "  4.64744998  3.28875494  3.38288959  2.38616237  2.12051205  4.1006281\n",
      "  1.33152833  7.80085455  5.20101206  5.4729539   3.20457084  7.22579308\n",
      "  7.63112347  5.00874336  2.92026532  4.5273367   5.3933178   4.89669111\n",
      "  3.48053413  6.76009791  5.27715865  5.53722518  1.2115273   4.3933269\n",
      "  1.27991842  0.46281648  3.24119064  4.80037564  3.56117455  6.49485913\n",
      "  2.89939758  2.2770553   4.41544706  3.83192268  2.11192987  4.21050777\n",
      "  5.95259909  3.34025797  7.5051821   2.25791283  1.92480011  3.64563919\n",
      "  8.01488534  3.50711064  4.13659839  4.16622753  4.07897702  4.60072668\n",
      "  4.30112369  5.31191586  5.58059245  5.79287945  3.66513432  1.56458233\n",
      "  2.61277177  2.83270073  2.89777336  5.02159307  2.16146524  7.14825585\n",
      "  2.42079782  4.7193045   3.06055922  3.19933431]\n"
     ]
    }
   ],
   "source": [
    "s11 = distance(d1, init_c1)\n",
    "s12 = distance(d1, init_c1)\n",
    "s21 = distance(d2, init_c2)\n",
    "s22 = distance(d2, init_c2)\n",
    "print s11, s12, s21, s22"
   ]
  },
  {
   "cell_type": "code",
   "execution_count": 32,
   "metadata": {
    "collapsed": false
   },
   "outputs": [
    {
     "data": {
      "text/plain": [
       "array([False, False, False, False, False, False, False, False, False,\n",
       "       False, False, False, False, False, False, False, False, False,\n",
       "       False, False, False, False, False, False, False, False, False,\n",
       "       False, False, False, False, False, False, False, False, False,\n",
       "       False, False, False, False, False, False, False, False, False,\n",
       "       False, False, False, False, False, False, False, False, False,\n",
       "       False, False, False, False, False, False, False, False, False,\n",
       "       False, False, False, False, False, False, False, False, False,\n",
       "       False, False, False, False, False, False, False, False, False,\n",
       "       False, False, False, False, False, False, False, False, False,\n",
       "       False, False, False, False, False, False, False, False, False, False], dtype=bool)"
      ]
     },
     "execution_count": 32,
     "metadata": {},
     "output_type": "execute_result"
    }
   ],
   "source": [
    "#which ones are closer to center one than center two?\n",
    "s11 < s12"
   ]
  },
  {
   "cell_type": "code",
   "execution_count": 33,
   "metadata": {
    "collapsed": true
   },
   "outputs": [],
   "source": [
    "#this tells me that the true data points do not belong with the others\n",
    "assign1 = s11 < s12\n",
    "assign2 = s21 < s22"
   ]
  },
  {
   "cell_type": "code",
   "execution_count": 34,
   "metadata": {
    "collapsed": false
   },
   "outputs": [
    {
     "data": {
      "text/plain": [
       "array([False, False, False, False, False, False, False, False, False,\n",
       "       False, False, False, False, False, False, False, False, False,\n",
       "       False, False, False, False, False, False, False, False, False,\n",
       "       False, False, False, False, False, False, False, False, False,\n",
       "       False, False, False, False, False, False, False, False, False,\n",
       "       False, False, False, False, False, False, False, False, False,\n",
       "       False, False, False, False, False, False, False, False, False,\n",
       "       False, False, False, False, False, False, False, False, False,\n",
       "       False, False, False, False, False, False, False, False, False,\n",
       "       False, False, False, False, False, False, False, False, False,\n",
       "       False, False, False, False, False, False, False, False, False, False], dtype=bool)"
      ]
     },
     "execution_count": 34,
     "metadata": {},
     "output_type": "execute_result"
    }
   ],
   "source": [
    "assign2"
   ]
  },
  {
   "cell_type": "code",
   "execution_count": 40,
   "metadata": {
    "collapsed": false
   },
   "outputs": [
    {
     "data": {
      "text/plain": [
       "(0, 2)"
      ]
     },
     "execution_count": 40,
     "metadata": {},
     "output_type": "execute_result"
    }
   ],
   "source": [
    "#orig data, take the dat points from the other array\n",
    "#concatnate just puts together two arrays\n",
    "d1new = np.concatenate([d1[assign1], d2[assign2]])\n",
    "d1new.shape"
   ]
  },
  {
   "cell_type": "code",
   "execution_count": 41,
   "metadata": {
    "collapsed": false
   },
   "outputs": [
    {
     "data": {
      "text/plain": [
       "(0, 2)"
      ]
     },
     "execution_count": 41,
     "metadata": {},
     "output_type": "execute_result"
    }
   ],
   "source": [
    "d2new = np.concatenate([d1[~assign1], d2[~assign2]])\n",
    "d1new.shape"
   ]
  },
  {
   "cell_type": "code",
   "execution_count": 43,
   "metadata": {
    "collapsed": false
   },
   "outputs": [
    {
     "data": {
      "text/plain": [
       "[<matplotlib.lines.Line2D at 0x7f9ca3e04f50>]"
      ]
     },
     "execution_count": 43,
     "metadata": {},
     "output_type": "execute_result"
    },
    {
     "data": {
      "image/png": "[encoded data removed]",
      "text/plain": [
       "<matplotlib.figure.Figure at 0x7f9ca3f564d0>"
      ]
     },
     "metadata": {},
     "output_type": "display_data"
    }
   ],
   "source": [
    "pl.plot(d1new[:,0], d1new[:,1],'.')\n",
    "pl.plot(d2new[:,0], d2new[:,1],'.')\n",
    "pl.plot(init_c1[0], init_c1[1],'x', ms =15)\n",
    "pl.plot(init_c2[0], init_c2[1],'x', ms =15)"
   ]
  },
  {
   "cell_type": "code",
   "execution_count": 44,
   "metadata": {
    "collapsed": false
   },
   "outputs": [
    {
     "name": "stderr",
     "output_type": "stream",
     "text": [
      "/opt/rh/anaconda/root/envs/PUI2016_Python2/lib/python2.7/site-packages/numpy/core/_methods.py:59: RuntimeWarning: Mean of empty slice.\n",
      "  warnings.warn(\"Mean of empty slice.\", RuntimeWarning)\n",
      "/opt/rh/anaconda/root/envs/PUI2016_Python2/lib/python2.7/site-packages/numpy/core/_methods.py:68: RuntimeWarning: invalid value encountered in true_divide\n",
      "  ret, rcount, out=ret, casting='unsafe', subok=False)\n"
     ]
    },
    {
     "data": {
      "text/plain": [
       "[<matplotlib.lines.Line2D at 0x7f9ca3d5ef50>]"
      ]
     },
     "execution_count": 44,
     "metadata": {},
     "output_type": "execute_result"
    },
    {
     "data": {
      "image/png": "[encoded data removed]",
      "text/plain": [
       "<matplotlib.figure.Figure at 0x7f9ca3eb9c50>"
      ]
     },
     "metadata": {},
     "output_type": "display_data"
    }
   ],
   "source": [
    "c1new = np.mean(d1new, axis=0)\n",
    "c2new = np.mean(d2new, axis=0)\n",
    "pl.plot(d1new[:,0], d1new[:,1],'.')\n",
    "pl.plot(d2new[:,0], d2new[:,1],'.')\n",
    "pl.plot(init_c1[0], init_c1[1],'x', ms =15)\n",
    "pl.plot(init_c2[0], init_c2[1],'x', ms =15)"
   ]
  },
  {
   "cell_type": "code",
   "execution_count": null,
   "metadata": {
    "collapsed": true
   },
   "outputs": [],
   "source": []
  }
 ],
 "metadata": {
  "kernelspec": {
   "display_name": "PUI2016_Python2",
   "language": "python",
   "name": "pui2016_python2"
  },
  "language_info": {
   "codemirror_mode": {
    "name": "ipython",
    "version": 2
   },
   "file_extension": ".py",
   "mimetype": "text/x-python",
   "name": "python",
   "nbconvert_exporter": "python",
   "pygments_lexer": "ipython2",
   "version": "2.7.12"
  }
 },
 "nbformat": 4,
 "nbformat_minor": 0
}
