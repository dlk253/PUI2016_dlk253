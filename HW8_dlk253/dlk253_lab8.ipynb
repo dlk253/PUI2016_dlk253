{
 "cells": [
  {
   "cell_type": "markdown",
   "metadata": {},
   "source": [
    "This lab was starte in the Julia Lane lecture - and completed by dlk253\n",
    "\n",
    "#Define a Research Question\n",
    "\n",
    "Which Community Districts in NYC show the highest number of complaints?\n",
    "\n",
    "#Find Suitable Data by searching the CUSP data catalog  https://datahub.cusp.nyu.edu/catalog\n"
   ]
  },
  {
   "cell_type": "code",
   "execution_count": 1,
   "metadata": {
    "collapsed": true
   },
   "outputs": [],
   "source": [
    "\n",
    "import os\n",
    "import pandas as pd\n",
    "import numpy as np\n",
    "import re\n",
    "PUIdata = os.getenv('PUIDATA')"
   ]
  },
  {
   "cell_type": "code",
   "execution_count": 9,
   "metadata": {
    "collapsed": false
   },
   "outputs": [
    {
     "name": "stdout",
     "output_type": "stream",
     "text": [
      "Index([u'JURISDICTION NAME', u'COUNT PARTICIPANTS', u'COUNT FEMALE',\n",
      "       u'PERCENT FEMALE', u'COUNT MALE', u'PERCENT MALE',\n",
      "       u'COUNT GENDER UNKNOWN', u'PERCENT GENDER UNKNOWN',\n",
      "       u'COUNT GENDER TOTAL', u'PERCENT GENDER TOTAL',\n",
      "       u'COUNT PACIFIC ISLANDER', u'PERCENT PACIFIC ISLANDER',\n",
      "       u'COUNT HISPANIC LATINO', u'PERCENT HISPANIC LATINO',\n",
      "       u'COUNT AMERICAN INDIAN', u'PERCENT AMERICAN INDIAN',\n",
      "       u'COUNT ASIAN NON HISPANIC', u'PERCENT ASIAN NON HISPANIC',\n",
      "       u'COUNT WHITE NON HISPANIC', u'PERCENT WHITE NON HISPANIC',\n",
      "       u'COUNT BLACK NON HISPANIC', u'PERCENT BLACK NON HISPANIC',\n",
      "       u'COUNT OTHER ETHNICITY', u'PERCENT OTHER ETHNICITY',\n",
      "       u'COUNT ETHNICITY UNKNOWN', u'PERCENT ETHNICITY UNKNOWN',\n",
      "       u'COUNT ETHNICITY TOTAL', u'PERCENT ETHNICITY TOTAL',\n",
      "       u'COUNT PERMANENT RESIDENT ALIEN', u'PERCENT PERMANENT RESIDENT ALIEN',\n",
      "       u'COUNT US CITIZEN', u'PERCENT US CITIZEN',\n",
      "       u'COUNT OTHER CITIZEN STATUS', u'PERCENT OTHER CITIZEN STATUS',\n",
      "       u'COUNT CITIZEN STATUS UNKNOWN', u'PERCENT CITIZEN STATUS UNKNOWN',\n",
      "       u'COUNT CITIZEN STATUS TOTAL', u'PERCENT CITIZEN STATUS TOTAL',\n",
      "       u'COUNT RECEIVES PUBLIC ASSISTANCE',\n",
      "       u'PERCENT RECEIVES PUBLIC ASSISTANCE',\n",
      "       u'COUNT NRECEIVES PUBLIC ASSISTANCE',\n",
      "       u'PERCENT NRECEIVES PUBLIC ASSISTANCE',\n",
      "       u'COUNT PUBLIC ASSISTANCE UNKNOWN',\n",
      "       u'PERCENT PUBLIC ASSISTANCE UNKNOWN', u'COUNT PUBLIC ASSISTANCE TOTAL'],\n",
      "      dtype='object')\n"
     ]
    }
   ],
   "source": [
    "# importing community distric demographic data \n",
    "df = pd.read_csv('https://data.cityofnewyork.us/resource/w3c6-35wg.csv')\n",
    "print (df.columns)"
   ]
  },
  {
   "cell_type": "code",
   "execution_count": 16,
   "metadata": {
    "collapsed": false
   },
   "outputs": [
    {
     "name": "stdout",
     "output_type": "stream",
     "text": [
      "['Bronx CD 001' 'Bronx CD 002' 'Bronx CD 003' 'Bronx CD 004' 'Bronx CD 005'\n",
      " 'Bronx CD 006' 'Bronx CD 007' 'Bronx CD 008' 'Bronx CD 009' 'Bronx CD 010'\n",
      " 'Bronx CD 011' 'Bronx CD 012' 'Brooklyn CD 001' 'Brooklyn CD 002'\n",
      " 'Brooklyn CD 003' 'Brooklyn CD 004' 'Brooklyn CD 005' 'Brooklyn CD 006'\n",
      " 'Brooklyn CD 007' 'Brooklyn CD 008' 'Brooklyn CD 009' 'Brooklyn CD 010'\n",
      " 'Brooklyn CD 011' 'Brooklyn CD 012' 'Brooklyn CD 013' 'Brooklyn CD 014'\n",
      " 'Brooklyn CD 015' 'Brooklyn CD 016' 'Brooklyn CD 017' 'Brooklyn CD 018'\n",
      " 'Manhattan CD 001' 'Manhattan CD 002' 'Manhattan CD 003'\n",
      " 'Manhattan CD 004' 'Manhattan CD 005' 'Manhattan CD 006'\n",
      " 'Manhattan CD 007' 'Manhattan CD 008' 'Manhattan CD 009'\n",
      " 'Manhattan CD 010' 'Manhattan CD 011' 'Manhattan CD 012' 'Queens CD 001'\n",
      " 'Queens CD 002' 'Queens CD 003' 'Queens CD 004' 'Queens CD 005'\n",
      " 'Queens CD 006' 'Queens CD 007' 'Queens CD 008' 'Queens CD 009'\n",
      " 'Queens CD 010' 'Queens CD 011' 'Queens CD 012' 'Queens CD 013'\n",
      " 'Queens CD 014' 'Richmond CD 001' 'Richmond CD 002' 'Richmond CD 003']\n",
      "[ 59   7  15  44  18  24 213  78   0  40  58  47   5  12  10 101  21 378\n",
      " 149 262 140   4  60  16   6  43  14  55  38   1  20   2  37]\n",
      "[ 31   5  12  27   7  10 128  48   0  30  32  36  34   6  78  18 279  72\n",
      " 200  76   3  28   8   1  24  26   4  13   2]\n",
      "[ 0.53  0.71  0.8   0.61  0.39  0.42  0.6   0.62  0.    0.75  0.55  0.72\n",
      "  1.    0.58  0.77  0.86  0.74  0.48  0.76  0.54  0.47  0.5   0.17  0.56\n",
      "  0.57  0.68  0.65  0.44  0.67  0.25  0.32]\n",
      "[28  2  3 17 11 14 85 30  0 10 26 22 13  5  4 23 99 77 62 64  1 32  8 19  6\n",
      " 12  7 25]\n",
      "[ 0.47  0.29  0.2   0.39  0.61  0.58  0.4   0.38  0.    0.25  0.45  0.28\n",
      "  0.42  0.23  0.14  0.26  0.52  0.24  0.46  0.53  0.5   0.83  0.44  0.43\n",
      "  0.32  0.35  0.56  1.    0.33  0.75  0.68]\n",
      "[0]\n",
      "[0]\n",
      "[ 59   7  15  44  18  24 213  78   0  40  58  47   5  12  10 101  21 378\n",
      " 149 262 140   4  60  16   6  43  14  55  38   1  20   2  37]\n",
      "[100   0]\n",
      "[0 1]\n",
      "[ 0.    0.02]\n",
      "[ 21   3   6  24   8  10 100  51   0  19  12   2   1   7  20  18   4   5]\n",
      "[ 0.36  0.43  0.4   0.55  0.44  0.42  0.47  0.65  0.    0.48  0.41  0.21\n",
      "  0.04  0.17  0.02  0.14  0.03  0.01  0.12  0.13  0.2   0.67  0.83  0.5\n",
      "  0.07]\n",
      "[0 1]\n",
      "[ 0.    0.02]\n",
      "[ 1  0  6  2  5  3 16 10  8 36  7]\n",
      "[ 0.02  0.    0.03  0.17  0.01  0.24  0.11  0.04  0.5   1.    0.84  0.13\n",
      "  0.14]\n",
      "[  0   1   2   5  41   4  86  15 355 211 128  37   6   3  10]\n",
      "[ 0.    0.04  0.03  0.13  0.87  0.8   0.08  0.85  0.71  0.94  0.28  0.81\n",
      "  0.91  0.62  0.14  0.07  0.17  0.4   0.67  1.  ]\n",
      "[32  4  8 16 10 11 93 22  0 15 23 46  1  5  9 62 12  2  6 25 14  3]\n",
      "[ 0.54  0.57  0.53  0.36  0.56  0.46  0.44  0.28  0.    0.38  0.4   0.79\n",
      "  0.02  0.42  0.9   0.04  0.05  0.01  1.    0.2   0.43  0.45  0.37  0.75\n",
      "  0.17  0.5   0.13]\n",
      "[ 4  0  1  2 12  3  5  8 18  9 16  7]\n",
      "[ 0.07  0.    0.02  0.08  0.06  0.04  0.09  0.2   0.17  0.1   0.05  0.03\n",
      "  0.14  0.5 ]\n",
      "[1 0 5]\n",
      "[ 0.02  0.    0.01  0.03  0.07]\n",
      "[ 59   7  15  44  18  24 213  78   0  40  58  47   5  12  10 101  21 378\n",
      " 149 262 140   4  60  16   6  43  14  55  38   1  20   2  37]\n",
      "[100  99   0]\n",
      "[ 3  2  0 15 10  8  5  7  1]\n",
      "[ 0.05  0.29  0.13  0.17  0.    0.07  0.03  0.08  0.02  0.14  0.06  1.\n",
      "  0.25  0.5 ]\n",
      "[ 55   5  13  42  15  24 196  74   0  36  56  47  12  10  99  21 367 139\n",
      " 257 132   4  58  14   6  41  52  35   1  20  17   2   3  37]\n",
      "[ 0.93  0.71  0.87  0.95  0.83  1.    0.92  0.    0.9   0.97  0.98  0.94\n",
      "  0.88  0.86  0.75  0.5 ]\n",
      "[1 0 2]\n",
      "[ 0.02  0.    0.01  0.03]\n",
      "[0]\n",
      "[0]\n",
      "[ 59   7  15  44  18  24 213  78   0  40  58  47   5  12  10 101  21 378\n",
      " 149 262 140   4  60  16   6  43  14  55  38   1  20   2  37]\n",
      "[100   0  99]\n",
      "[ 20   3   6  13   8  14  67  27   0  15  25  12  31   2   4  33  10 186\n",
      "  34  42  22   1   7   5]\n",
      "[ 0.34  0.43  0.4   0.3   0.44  0.58  0.31  0.35  0.    0.38  0.21  0.66\n",
      "  0.6   0.17  0.33  0.48  0.49  0.23  0.16  0.03  0.13  0.09  0.45  0.37\n",
      "  0.14  0.39  0.2   1.    0.08]\n",
      "[ 39   4   9  31  10 146  51   0  25  33  46  16   2   6  68  11 192 115\n",
      " 220 118  58  14   5   8  30  24   1  12  34]\n",
      "[ 0.66  0.57  0.6   0.7   0.56  0.42  0.69  0.65  0.    0.63  0.79  0.34\n",
      "  0.4   0.83  0.67  0.52  0.51  0.77  0.84  1.    0.97  0.88  0.91  0.55\n",
      "  0.86  0.61  0.8   0.92]\n",
      "[0]\n",
      "[0]\n",
      "[ 59   7  15  44  18  24 213  78   0  40  58  47   5  12  10 101  21 378\n",
      " 149 262 140   4  60  16   6  43  14  55  38   1  20   2  37]\n"
     ]
    }
   ],
   "source": [
    "# How many community districts are in file? \n",
    "\n",
    "for col in df:\n",
    "    print df[col].unique()"
   ]
  },
  {
   "cell_type": "code",
   "execution_count": 11,
   "metadata": {
    "collapsed": false
   },
   "outputs": [
    {
     "ename": "SyntaxError",
     "evalue": "invalid syntax (<ipython-input-11-2eb98a4a9529>, line 2)",
     "output_type": "error",
     "traceback": [
      "\u001b[0;36m  File \u001b[0;32m\"<ipython-input-11-2eb98a4a9529>\"\u001b[0;36m, line \u001b[0;32m2\u001b[0m\n\u001b[0;31m    df.('JURISDICTION NAME').unique()\u001b[0m\n\u001b[0m       ^\u001b[0m\n\u001b[0;31mSyntaxError\u001b[0m\u001b[0;31m:\u001b[0m invalid syntax\n"
     ]
    }
   ],
   "source": [
    "# How many community districts are in file? \n",
    "df.unique()"
   ]
  },
  {
   "cell_type": "code",
   "execution_count": null,
   "metadata": {
    "collapsed": true
   },
   "outputs": [],
   "source": []
  }
 ],
 "metadata": {
  "kernelspec": {
   "display_name": "PUI2016_Python2",
   "language": "python",
   "name": "pui2016_python2"
  },
  "language_info": {
   "codemirror_mode": {
    "name": "ipython",
    "version": 2
   },
   "file_extension": ".py",
   "mimetype": "text/x-python",
   "name": "python",
   "nbconvert_exporter": "python",
   "pygments_lexer": "ipython2",
   "version": "2.7.12"
  }
 },
 "nbformat": 4,
 "nbformat_minor": 0
}
