{
 "cells": [
  {
   "cell_type": "markdown",
   "metadata": {},
   "source": [
    "## Review for QE exam Nov 10th, 2017\n"
   ]
  },
  {
   "cell_type": "markdown",
   "metadata": {},
   "source": [
    "1.1 Data Wrangling"
   ]
  },
  {
   "cell_type": "code",
   "execution_count": 3,
   "metadata": {
    "collapsed": false
   },
   "outputs": [
    {
     "name": "stdout",
     "output_type": "stream",
     "text": [
      "Populating the interactive namespace from numpy and matplotlib\n"
     ]
    },
    {
     "name": "stderr",
     "output_type": "stream",
     "text": [
      "/opt/rh/anaconda/root/envs/PUI2016_Python2/lib/python2.7/site-packages/IPython/html.py:14: ShimWarning: The `IPython.html` package has been deprecated. You should import from `notebook` instead. `IPython.html.widgets` has moved to `ipywidgets`.\n",
      "  \"`IPython.html.widgets` has moved to `ipywidgets`.\", ShimWarning)\n"
     ]
    }
   ],
   "source": [
    "from __future__ import print_function\n",
    "__author__ = 'federica b bianco - CUSP NYU 2017'\n",
    "\n",
    "import os\n",
    "import numpy as np\n",
    "import pandas as pd\n",
    "import seaborn\n",
    "import pylab as pl\n",
    "\n",
    "%pylab inline"
   ]
  },
  {
   "cell_type": "code",
   "execution_count": 4,
   "metadata": {
    "collapsed": false
   },
   "outputs": [
    {
     "name": "stdout",
     "output_type": "stream",
     "text": [
      "/home/cusp/dlk253/PUIdata\n"
     ]
    }
   ],
   "source": [
    "#confirming the PUIdata directory that already exists\n",
    "PUIdata = os.getenv('PUIDATA')\n",
    "\n",
    "print (PUIdata)"
   ]
  },
  {
   "cell_type": "code",
   "execution_count": 5,
   "metadata": {
    "collapsed": true
   },
   "outputs": [],
   "source": [
    "# download the data\n",
    "# download the data from https://serv.cusp.nyu.edu/~fbianco/PUI2017/data/\n",
    "# with curl and move it to PUI data\n",
    "urlpath = \"https://serv.cusp.nyu.edu/~fbianco/PUI2017/data/\"\n",
    "for f in ['311_Service_Requests_from_2010_to_Present_head.csv',\n",
    "          '311_Service_Requests_from_2010_to_Present_short.csv',\n",
    "          'NYPD_7_Major_Felony_Incidents.csv']:\n",
    "    os.system(\"curl -O \" + urlpath + f)\n",
    "    os.system(\"mv \" + f + ' ' + PUIdata)"
   ]
  },
  {
   "cell_type": "code",
   "execution_count": 6,
   "metadata": {
    "collapsed": false
   },
   "outputs": [
    {
     "data": {
      "text/plain": [
       "['/home/cusp/dlk253/PUIdata/PLUTODD16v1.pdf',\n",
       " '/home/cusp/dlk253/PUIdata/MN_Dcp_Mappinglot.dbf',\n",
       " '/home/cusp/dlk253/PUIdata/MN_Dcp_Mappinglot.prj',\n",
       " '/home/cusp/dlk253/PUIdata/MN_Dcp_Mappinglot.sbn',\n",
       " '/home/cusp/dlk253/PUIdata/MN_Dcp_Mappinglot.sbx',\n",
       " '/home/cusp/dlk253/PUIdata/MN_Dcp_Mappinglot.shp',\n",
       " '/home/cusp/dlk253/PUIdata/MN_Dcp_Mappinglot.shp.xml',\n",
       " '/home/cusp/dlk253/PUIdata/MN_Dcp_Mappinglot.shx',\n",
       " '/home/cusp/dlk253/PUIdata/mn_pluto.dbf',\n",
       " '/home/cusp/dlk253/PUIdata/mn_pluto.dbf.xml',\n",
       " '/home/cusp/dlk253/PUIdata/MNMapPLUTO.BBL.atx',\n",
       " '/home/cusp/dlk253/PUIdata/MNMapPLUTO.CD.atx',\n",
       " '/home/cusp/dlk253/PUIdata/MNMapPLUTO.dbf',\n",
       " '/home/cusp/dlk253/PUIdata/MNMapPLUTO.LandUse.atx',\n",
       " '/home/cusp/dlk253/PUIdata/MNMapPLUTO.prj',\n",
       " '/home/cusp/dlk253/PUIdata/MNMapPLUTO.sbn',\n",
       " '/home/cusp/dlk253/PUIdata/MNMapPLUTO.sbx',\n",
       " '/home/cusp/dlk253/PUIdata/MNMapPLUTO.shp',\n",
       " '/home/cusp/dlk253/PUIdata/MNMapPLUTO.shp.xml',\n",
       " '/home/cusp/dlk253/PUIdata/MNMapPLUTO.shx',\n",
       " '/home/cusp/dlk253/PUIdata/MNMapPLUTO.ZoneDist1.atx',\n",
       " '/home/cusp/dlk253/PUIdata/201503-citibike-tripdata.csv',\n",
       " '/home/cusp/dlk253/PUIdata/201502-citibike-tripdata.csv',\n",
       " '/home/cusp/dlk253/PUIdata/201501-citibike-tripdata.csv',\n",
       " '/home/cusp/dlk253/PUIdata/201504-citibike-tripdata.csv',\n",
       " '/home/cusp/dlk253/PUIdata/out.csv',\n",
       " '/home/cusp/dlk253/PUIdata/2014-01 - Citi Bike trip data.csv',\n",
       " '/home/cusp/dlk253/PUIdata/201510-citibike-tripdata.csv',\n",
       " '/home/cusp/dlk253/PUIdata/201507-citibike-tripdata.csv',\n",
       " '/home/cusp/dlk253/PUIdata/201605-citibike-tripdata.csv',\n",
       " '/home/cusp/dlk253/PUIdata/201506-citibike-tripdata.csv',\n",
       " '/home/cusp/dlk253/PUIdata/201601-citibike-tripdata.csv',\n",
       " '/home/cusp/dlk253/PUIdata/nyc-zip-code-tabulation-areas-polygons.geojson',\n",
       " '/home/cusp/dlk253/PUIdata/ZIP_CODE_040114.shx',\n",
       " '/home/cusp/dlk253/PUIdata/ZIP_CODE_040114.dbf',\n",
       " '/home/cusp/dlk253/PUIdata/ZIP_CODE_040114.prj',\n",
       " '/home/cusp/dlk253/PUIdata/ZIP_CODE_040114.sbn',\n",
       " '/home/cusp/dlk253/PUIdata/ZIP_CODE_040114.sbx',\n",
       " '/home/cusp/dlk253/PUIdata/ZIP_CODE_040114.shp',\n",
       " '/home/cusp/dlk253/PUIdata/ZIP_CODE_040114.shp.xml',\n",
       " '/home/cusp/dlk253/PUIdata/bedrock_states',\n",
       " '/home/cusp/dlk253/PUIdata/__MACOSX',\n",
       " '/home/cusp/dlk253/PUIdata/zbp10totals.zip',\n",
       " '/home/cusp/dlk253/PUIdata/zbp00totals.zip',\n",
       " '/home/cusp/dlk253/PUIdata/zbp00totals.txt',\n",
       " '/home/cusp/dlk253/PUIdata/zbp10totals.txt',\n",
       " '/home/cusp/dlk253/PUIdata/shapefiles',\n",
       " '/home/cusp/dlk253/PUIdata/wika_test',\n",
       " '/home/cusp/dlk253/PUIdata/ecg_sample',\n",
       " '/home/cusp/dlk253/PUIdata/makerthon_data',\n",
       " '/home/cusp/dlk253/PUIdata/dana_data_files',\n",
       " '/home/cusp/dlk253/PUIdata/311_Service_Requests_from_2010_to_Present_head.csv',\n",
       " '/home/cusp/dlk253/PUIdata/311_Service_Requests_from_2010_to_Present_short.csv',\n",
       " '/home/cusp/dlk253/PUIdata/NYPD_7_Major_Felony_Incidents.csv']"
      ]
     },
     "execution_count": 6,
     "metadata": {},
     "output_type": "execute_result"
    }
   ],
   "source": [
    "#use glob to see the directory in a pythonic way\n",
    "# with the package glob I can see the content of a directory \n",
    "# in a pythonic way\n",
    "import glob\n",
    "glob.glob(PUIdata + \"/*\")"
   ]
  },
  {
   "cell_type": "code",
   "execution_count": null,
   "metadata": {
    "collapsed": true
   },
   "outputs": [],
   "source": []
  }
 ],
 "metadata": {
  "kernelspec": {
   "display_name": "PUI2016_Python2",
   "language": "python",
   "name": "pui2016_python2"
  },
  "language_info": {
   "codemirror_mode": {
    "name": "ipython",
    "version": 2
   },
   "file_extension": ".py",
   "mimetype": "text/x-python",
   "name": "python",
   "nbconvert_exporter": "python",
   "pygments_lexer": "ipython2",
   "version": "2.7.12"
  }
 },
 "nbformat": 4,
 "nbformat_minor": 0
}
